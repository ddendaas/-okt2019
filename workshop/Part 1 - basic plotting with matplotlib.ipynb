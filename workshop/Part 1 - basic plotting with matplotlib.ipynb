{
 "cells": [
  {
   "cell_type": "code",
   "execution_count": null,
   "metadata": {},
   "outputs": [],
   "source": [
    "%pylab inline\n",
    "%config InlineBackend.figure_format = 'retina'\n",
    "\n",
    "import numpy as np\n",
    "import matplotlib.pyplot as plt"
   ]
  },
  {
   "cell_type": "markdown",
   "metadata": {},
   "source": [
    "# Matplotlib basics"
   ]
  },
  {
   "cell_type": "markdown",
   "metadata": {},
   "source": [
    "There are three ways to plot with matplotlib:\n",
    "* The pyplot API: *matlab* style commands\n",
    "* The object-oriented API:\n",
    "* The pylab API: mimics *matlab* and is **disapproved** by matplotlib team, so we'll ignore this option"
   ]
  },
  {
   "cell_type": "markdown",
   "metadata": {},
   "source": [
    "## Pyplot API"
   ]
  },
  {
   "cell_type": "code",
   "execution_count": null,
   "metadata": {},
   "outputs": [],
   "source": [
    "x = np.linspace(0,2*np.pi,100)\n",
    "y = np.sin(x)\n",
    "plt.plot(x,y)"
   ]
  },
  {
   "cell_type": "markdown",
   "metadata": {},
   "source": [
    "## Object oriented API"
   ]
  },
  {
   "cell_type": "markdown",
   "metadata": {},
   "source": [
    "* Better control for customization:\n",
    "\n",
    "> We recommend directly working with the objects, if you need more control and customization of your plots.\n",
    ">\n",
    "> -- [matplotlib documentation](https://matplotlib.org/api/api_overview.html#the-pyplot-api)\n",
    "\n",
    "\n",
    "* I prefer the object oriented API because it's more explicit:\n",
    "\n",
    "> Explicit is better than implicit.\n",
    ">\n",
    "> -- Zen of Python"
   ]
  },
  {
   "cell_type": "code",
   "execution_count": null,
   "metadata": {},
   "outputs": [],
   "source": [
    "x = np.linspace(0,2*np.pi,100)\n",
    "y = np.sin(x)\n",
    "fig = plt.figure()\n",
    "ax = plt.gca()\n",
    "ax.plot(x,y)"
   ]
  },
  {
   "cell_type": "markdown",
   "metadata": {},
   "source": [
    "## Figures and axes"
   ]
  },
  {
   "cell_type": "markdown",
   "metadata": {},
   "source": [
    "A figure holds one or more axes objects. Each axes object has an x- and y-axis, with associated objects, and a title."
   ]
  },
  {
   "cell_type": "code",
   "execution_count": null,
   "metadata": {},
   "outputs": [],
   "source": [
    "fig = plt.figure()\n",
    "ax = plt.gca()\n",
    "ax.plot(x,y)\n",
    "ax.text(-.4,1.2,'fig',fontsize=16)\n",
    "ax.text(2,1.05,'ax',fontsize=16,)"
   ]
  },
  {
   "cell_type": "markdown",
   "metadata": {},
   "source": [
    "### Multiple lines in one axes"
   ]
  },
  {
   "cell_type": "markdown",
   "metadata": {},
   "source": [
    "By applying multiple calls to plot on the same axes object, you can add multiple lines to a plot. Matplotlib will take care of giving each line a unique color."
   ]
  },
  {
   "cell_type": "code",
   "execution_count": null,
   "metadata": {},
   "outputs": [],
   "source": [
    "fig = plt.figure()\n",
    "ax = plt.gca()\n",
    "ax.plot(x,np.sin(x))\n",
    "ax.plot(x,np.cos(x))"
   ]
  },
  {
   "cell_type": "markdown",
   "metadata": {},
   "source": [
    "### Legends"
   ]
  },
  {
   "cell_type": "markdown",
   "metadata": {},
   "source": [
    "To add a legends, you must specify a label and request a legend to be added."
   ]
  },
  {
   "cell_type": "code",
   "execution_count": null,
   "metadata": {},
   "outputs": [],
   "source": [
    "fig = plt.figure()\n",
    "ax = plt.gca()\n",
    "ax.plot(x,np.sin(x),label='sin(x)')\n",
    "ax.plot(x,np.cos(x),label='cos(x)')\n",
    "ax.legend()"
   ]
  },
  {
   "cell_type": "markdown",
   "metadata": {},
   "source": [
    "## Labels and titles"
   ]
  },
  {
   "cell_type": "markdown",
   "metadata": {},
   "source": [
    "Using the `set` function, you can set the labels of the x- and y-axis and the title (and much more). Alternatively, you can use the `set_title`, `set_xlabel`, and `set_ylabel` functions, which offer more customization, but it makes the code a bit messy. "
   ]
  },
  {
   "cell_type": "code",
   "execution_count": null,
   "metadata": {},
   "outputs": [],
   "source": [
    "fig = plt.figure()\n",
    "ax = plt.gca()\n",
    "ax.plot(x,np.sin(x),label='sin(x)')\n",
    "ax.plot(x,np.cos(x),label='cos(x)')\n",
    "ax.set(xlabel='x',ylabel='y',title='correct plot')\n",
    "ax.legend()"
   ]
  },
  {
   "cell_type": "markdown",
   "metadata": {},
   "source": [
    "## EXERCISE\n",
    "\n",
    "* Create a plot with 5 different lines\n",
    "    * add a legend\n",
    "    * add axes labels and a title\n",
    "* Too much time? \n",
    "    * look into the documentation of `legend` to figure out how to change the legend location.\n",
    "    * figure out how to set the axes labels and title with `set_xlabel`, `set_ylabel`, `set_title` functions and utilize the customization of thes emuctions"
   ]
  },
  {
   "cell_type": "markdown",
   "metadata": {},
   "source": [
    "## Subplots"
   ]
  },
  {
   "cell_type": "markdown",
   "metadata": {},
   "source": [
    "A figure can contain multiple plots, which are creates with the subplots command."
   ]
  },
  {
   "cell_type": "code",
   "execution_count": null,
   "metadata": {},
   "outputs": [],
   "source": [
    "fig,axes = plt.subplots(1,4,figsize=(8,2))\n",
    "x = np.linspace(0,2*np.pi,100)\n",
    "y1 = np.sin(x)\n",
    "y2 = np.sin(x+1)\n",
    "y3 = np.sin(x+2)\n",
    "y4 = np.sin(x+3)\n",
    "axes[0].plot(x,y1)\n",
    "axes[0].set(xlabel='x',ylabel='y',title='y1')\n",
    "axes[1].plot(x,y2)\n",
    "axes[1].set(xlabel='x',ylabel='y',title='y2')\n",
    "axes[2].plot(x,y3)\n",
    "axes[2].set(xlabel='x',ylabel='y',title='y3')\n",
    "axes[3].plot(x,y4)\n",
    "axes[3].set(xlabel='x',ylabel='y',title='y4')\n",
    "plt.tight_layout()"
   ]
  },
  {
   "cell_type": "code",
   "execution_count": null,
   "metadata": {},
   "outputs": [],
   "source": [
    "fig,axes = plt.subplots(2,2,figsize=(6,6))\n",
    "x = np.linspace(0,2*np.pi,100)\n",
    "y1 = np.sin(x)\n",
    "y2 = np.sin(x+1)\n",
    "y3 = np.sin(x+2)\n",
    "y4 = np.sin(x+3)\n",
    "axes[0,0].plot(x,y1)\n",
    "axes[0,0].set(xlabel='x',ylabel='y',title='y1')\n",
    "axes[0,1].plot(x,y2)\n",
    "axes[0,1].set(xlabel='x',ylabel='y',title='y2')\n",
    "axes[1,0].plot(x,y3)\n",
    "axes[1,0].set(xlabel='x',ylabel='y',title='y3')\n",
    "axes[1,1].plot(x,y4)\n",
    "axes[1,1].set(xlabel='x',ylabel='y',title='y4')\n",
    "plt.tight_layout()"
   ]
  },
  {
   "cell_type": "markdown",
   "metadata": {},
   "source": [
    "As you may have noticed, the shape of `axes` depends ont he requested subplots:\n",
    "* 1 dimensional for single row/column\n",
    "* 2 dimensional for multiple rows and columns"
   ]
  },
  {
   "cell_type": "code",
   "execution_count": null,
   "metadata": {},
   "outputs": [],
   "source": [
    "fig,axes = plt.subplots(4,1)\n",
    "print(axes.shape)\n",
    "fig,axes = plt.subplots(2,2)\n",
    "print(axes.shape)\n",
    "fig,axes = plt.subplots(1,4)\n",
    "print(axes.shape)\n"
   ]
  },
  {
   "cell_type": "markdown",
   "metadata": {},
   "source": [
    "### EXERCISE\n",
    "\n",
    "Create your own Nx1 and NxM subplots\n",
    "* use a for loop to fill them\n",
    "* add titles and axes labels"
   ]
  },
  {
   "cell_type": "markdown",
   "metadata": {},
   "source": [
    "# Styling plots"
   ]
  },
  {
   "cell_type": "markdown",
   "metadata": {},
   "source": [
    "When you put multiple lines in the same plot, you need to make sure that they have different styles. Furthermore, when you have few datapoints, it's better to plot the individual points and connect the lines."
   ]
  },
  {
   "cell_type": "code",
   "execution_count": null,
   "metadata": {},
   "outputs": [],
   "source": [
    "ax = plt.gca()\n",
    "x = np.linspace(0,2*np.pi,10)\n",
    "y = np.sin(x)\n",
    "ax.plot(x,y,linestyle='-',marker='o',color='r',)"
   ]
  },
  {
   "cell_type": "markdown",
   "metadata": {},
   "source": [
    "* Basic line styles: `-`, `--`, `:`, `-.`\n",
    "    * More styles possible with `dashes` argument: `dashes = [on, off, on, off, ...]`\n",
    "    * Line width i set with `linewidth` or `lw`\n",
    "* Basic colors: `b`,`g`,`r`,`c`,`m`,`y`,`k`,`w`\n",
    "    * More colors with color names and rgb colors\n",
    "    * `color` applies to the line\n",
    "* Markers: `o`, `.`, `s`, `^`, `*`,`v`,`p` and more\n",
    "    * size: `markersize`\n",
    "    * color: `markerfacecolor` and `markeredgecolor`    "
   ]
  },
  {
   "cell_type": "markdown",
   "metadata": {},
   "source": [
    "## EXERCISE\n",
    "\n",
    "* Make a plot with 4 different lines and give them unique colors, markers, and styles.\n",
    "* Too much time? Make a plot with 5 different lines and 5 different line styles"
   ]
  },
  {
   "cell_type": "code",
   "execution_count": null,
   "metadata": {},
   "outputs": [],
   "source": [
    "x = np.linspace(0,2*np.pi,10)"
   ]
  }
 ],
 "metadata": {
  "kernelspec": {
   "display_name": "Python 3",
   "language": "python",
   "name": "python3"
  },
  "language_info": {
   "codemirror_mode": {
    "name": "ipython",
    "version": 3
   },
   "file_extension": ".py",
   "mimetype": "text/x-python",
   "name": "python",
   "nbconvert_exporter": "python",
   "pygments_lexer": "ipython3",
   "version": "3.7.3"
  }
 },
 "nbformat": 4,
 "nbformat_minor": 2
}
