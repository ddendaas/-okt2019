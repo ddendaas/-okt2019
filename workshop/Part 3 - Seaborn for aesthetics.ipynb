{
 "cells": [
  {
   "cell_type": "code",
   "execution_count": null,
   "metadata": {},
   "outputs": [],
   "source": [
    "%pylab inline\n",
    "%config InlineBackend.figure_format = 'retina'\n",
    "\n",
    "import numpy as np\n",
    "import matplotlib.pyplot as plt\n",
    "import seaborn as sns"
   ]
  },
  {
   "cell_type": "code",
   "execution_count": null,
   "metadata": {},
   "outputs": [],
   "source": [
    "x = np.linspace(0,2*np.pi,100)\n",
    "y = np.sin(x)\n",
    "plt.plot(x,y)"
   ]
  },
  {
   "cell_type": "code",
   "execution_count": null,
   "metadata": {},
   "outputs": [],
   "source": [
    "sns.set_style(\"ticks\")\n",
    "plt.plot(x,y)\n",
    "sns.despine()"
   ]
  },
  {
   "cell_type": "markdown",
   "metadata": {},
   "source": [
    "# Use seaborn defaults"
   ]
  },
  {
   "cell_type": "code",
   "execution_count": null,
   "metadata": {},
   "outputs": [],
   "source": [
    "sns.set()\n",
    "plt.plot(x,y)"
   ]
  },
  {
   "cell_type": "markdown",
   "metadata": {},
   "source": [
    "# Styles"
   ]
  },
  {
   "cell_type": "markdown",
   "metadata": {},
   "source": [
    "Preset seaborn themes: darkgrid, whitegrid, dark, white, and ticks"
   ]
  },
  {
   "cell_type": "code",
   "execution_count": null,
   "metadata": {},
   "outputs": [],
   "source": [
    "sns.set_style(\"ticks\")\n",
    "plt.plot(x,y)"
   ]
  },
  {
   "cell_type": "markdown",
   "metadata": {},
   "source": [
    "## EXERCISE\n",
    "\n",
    "Try the different styles"
   ]
  },
  {
   "cell_type": "markdown",
   "metadata": {},
   "source": [
    "## Customizing a style"
   ]
  },
  {
   "cell_type": "markdown",
   "metadata": {},
   "source": [
    "Styles can be adapted to suite your needs. Note that the values for the colors denote greyscale values."
   ]
  },
  {
   "cell_type": "code",
   "execution_count": null,
   "metadata": {},
   "outputs": [],
   "source": [
    "sns.axes_style(\"ticks\")"
   ]
  },
  {
   "cell_type": "code",
   "execution_count": null,
   "metadata": {},
   "outputs": [],
   "source": [
    "sns.set_style(\"ticks\",{'axes.spines.right':False})\n",
    "plt.plot(x,y)"
   ]
  },
  {
   "cell_type": "markdown",
   "metadata": {},
   "source": [
    "## EXERCISE\n",
    "\n",
    "Adapt the `ticks` style such that:\n",
    "* There are no spines on the right or the top\n",
    "* The text and labels are black\n",
    "* The y-ticks direct inwards\n",
    "* The axes grid is visible"
   ]
  },
  {
   "cell_type": "markdown",
   "metadata": {
    "toc-hr-collapsed": false
   },
   "source": [
    "# Context"
   ]
  },
  {
   "cell_type": "markdown",
   "metadata": {},
   "source": [
    "Preset contexts: paper, notebook, talk, and poster"
   ]
  },
  {
   "cell_type": "code",
   "execution_count": null,
   "metadata": {},
   "outputs": [],
   "source": [
    "sns.set_context(\"paper\")\n",
    "sns.set_style(\"ticks\")\n",
    "plt.plot(x,y)\n",
    "sns.despine()"
   ]
  },
  {
   "cell_type": "markdown",
   "metadata": {},
   "source": [
    "## EXERCISE\n",
    "\n",
    "Try the different contexts"
   ]
  },
  {
   "cell_type": "markdown",
   "metadata": {},
   "source": [
    "## Customizing a context"
   ]
  },
  {
   "cell_type": "markdown",
   "metadata": {},
   "source": [
    "A context can be customized by setting the font scale, and using a similar dictionary as we used for the style:"
   ]
  },
  {
   "cell_type": "code",
   "execution_count": null,
   "metadata": {},
   "outputs": [],
   "source": [
    "sns.set_context(\"paper\",font_scale=2)\n",
    "sns.set_style(\"ticks\")\n",
    "plt.plot(x,y)\n",
    "sns.despine()"
   ]
  },
  {
   "cell_type": "code",
   "execution_count": null,
   "metadata": {},
   "outputs": [],
   "source": [
    "sns.plotting_context(\"paper\")"
   ]
  },
  {
   "cell_type": "markdown",
   "metadata": {},
   "source": [
    "## EXERCISE\n",
    "\n",
    "Create a paper style such that:\n",
    "* all font sizes are increased by 50%\n",
    "* the linewidth of all lines is 3\n",
    "* the major x and y ticks have a size of 2"
   ]
  },
  {
   "cell_type": "markdown",
   "metadata": {},
   "source": [
    "# Control figure settings for multiple plots"
   ]
  },
  {
   "cell_type": "markdown",
   "metadata": {},
   "source": [
    "1. Create python file with default settings, e.g: `plotting_imports.py`"
   ]
  },
  {
   "cell_type": "code",
   "execution_count": null,
   "metadata": {},
   "outputs": [],
   "source": [
    "# create preset list of dashes, markers, and colors such that this is the same for all figures\n",
    "dashes = [[],[3,3],[1,1],[3,3,1,3],[1,1,1,3,3,3],[1,1,1,1,1,3,3,3],[6,3,1,3],[3,3,3,3,1,3],[6,3,1,3,1,3]]\n",
    "markers = ['o','s','v','p','8','D','>','^']\n",
    "lcolors = ['k','r','g','y','b','grey','purple','brown']\n",
    "\n",
    "# width in inches - match to medium\n",
    "imw_max = 12\n",
    "w_im = imw_max/4\n",
    "h_im = 2.5\n",
    "\n",
    "# seaborn settings\n",
    "sns.set_context(\"notebook\",font_scale=1.15,rc={'lines.linewidth' : 1.5})\n",
    "sns.set_style('ticks',{'xtick.major.size' : 4,\n",
    "                       'ytick.major.size' : 4,\n",
    "                       'axes.spines.top' : False,\n",
    "                       'axes.spines.right' : False})\n",
    "\n"
   ]
  },
  {
   "cell_type": "markdown",
   "metadata": {},
   "source": [
    "2. Import `plotting_imports.py` in python script / notebook"
   ]
  },
  {
   "cell_type": "code",
   "execution_count": null,
   "metadata": {},
   "outputs": [],
   "source": [
    "fig,axes = plt.subplots(1,4,figsize=(4*w_im,h_im))\n",
    "for ax in axes:\n",
    "    ax.plot(x,y)\n",
    "plt.tight_layout()"
   ]
  },
  {
   "cell_type": "markdown",
   "metadata": {},
   "source": [
    "## EXERCISE\n",
    "\n",
    "* create a figure using the sizes from the plotting imports\n",
    "* create a plot with 5 lines (see Part 1) using a for loop and use `dashes`, `markers` and `lcolors` from the plotting imports"
   ]
  }
 ],
 "metadata": {
  "kernelspec": {
   "display_name": "Python 3",
   "language": "python",
   "name": "python3"
  },
  "language_info": {
   "codemirror_mode": {
    "name": "ipython",
    "version": 3
   },
   "file_extension": ".py",
   "mimetype": "text/x-python",
   "name": "python",
   "nbconvert_exporter": "python",
   "pygments_lexer": "ipython3",
   "version": "3.7.3"
  }
 },
 "nbformat": 4,
 "nbformat_minor": 2
}
